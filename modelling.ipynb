{
 "cells": [
  {
   "cell_type": "code",
   "execution_count": 1,
   "metadata": {},
   "outputs": [],
   "source": [
    "import pandas as pd\n",
    "import numpy as np\n",
    "import matplotlib.pyplot as plt"
   ]
  },
  {
   "cell_type": "code",
   "execution_count": 2,
   "metadata": {},
   "outputs": [
    {
     "data": {
      "text/html": [
       "<div>\n",
       "<style scoped>\n",
       "    .dataframe tbody tr th:only-of-type {\n",
       "        vertical-align: middle;\n",
       "    }\n",
       "\n",
       "    .dataframe tbody tr th {\n",
       "        vertical-align: top;\n",
       "    }\n",
       "\n",
       "    .dataframe thead th {\n",
       "        text-align: right;\n",
       "    }\n",
       "</style>\n",
       "<table border=\"1\" class=\"dataframe\">\n",
       "  <thead>\n",
       "    <tr style=\"text-align: right;\">\n",
       "      <th></th>\n",
       "      <th>Unnamed: 0</th>\n",
       "      <th>id</th>\n",
       "      <th>CustomerId</th>\n",
       "      <th>Surname</th>\n",
       "      <th>CreditScore</th>\n",
       "      <th>Geography</th>\n",
       "      <th>Gender</th>\n",
       "      <th>Age</th>\n",
       "      <th>Tenure</th>\n",
       "      <th>Balance</th>\n",
       "      <th>NumOfProducts</th>\n",
       "      <th>HasCrCard</th>\n",
       "      <th>IsActiveMember</th>\n",
       "      <th>EstimatedSalary</th>\n",
       "      <th>churn</th>\n",
       "    </tr>\n",
       "  </thead>\n",
       "  <tbody>\n",
       "    <tr>\n",
       "      <th>0</th>\n",
       "      <td>0</td>\n",
       "      <td>157138</td>\n",
       "      <td>15638646</td>\n",
       "      <td>Chinweike</td>\n",
       "      <td>628.0</td>\n",
       "      <td>Spain</td>\n",
       "      <td>Female</td>\n",
       "      <td>50.0</td>\n",
       "      <td>4</td>\n",
       "      <td>160133.08</td>\n",
       "      <td>1</td>\n",
       "      <td>1</td>\n",
       "      <td>1</td>\n",
       "      <td>653.53</td>\n",
       "      <td>0</td>\n",
       "    </tr>\n",
       "    <tr>\n",
       "      <th>1</th>\n",
       "      <td>1</td>\n",
       "      <td>116144</td>\n",
       "      <td>15695825</td>\n",
       "      <td>Onwumelu</td>\n",
       "      <td>710.0</td>\n",
       "      <td>Spain</td>\n",
       "      <td>Male</td>\n",
       "      <td>34.0</td>\n",
       "      <td>8</td>\n",
       "      <td>0.00</td>\n",
       "      <td>2</td>\n",
       "      <td>1</td>\n",
       "      <td>1</td>\n",
       "      <td>72993.73</td>\n",
       "      <td>0</td>\n",
       "    </tr>\n",
       "    <tr>\n",
       "      <th>2</th>\n",
       "      <td>2</td>\n",
       "      <td>145603</td>\n",
       "      <td>15592765</td>\n",
       "      <td>Marks</td>\n",
       "      <td>663.0</td>\n",
       "      <td>France</td>\n",
       "      <td>Female</td>\n",
       "      <td>23.0</td>\n",
       "      <td>8</td>\n",
       "      <td>125470.81</td>\n",
       "      <td>1</td>\n",
       "      <td>1</td>\n",
       "      <td>1</td>\n",
       "      <td>174536.17</td>\n",
       "      <td>0</td>\n",
       "    </tr>\n",
       "    <tr>\n",
       "      <th>3</th>\n",
       "      <td>3</td>\n",
       "      <td>79929</td>\n",
       "      <td>15807525</td>\n",
       "      <td>Onyemachukwu</td>\n",
       "      <td>644.0</td>\n",
       "      <td>Spain</td>\n",
       "      <td>Male</td>\n",
       "      <td>45.0</td>\n",
       "      <td>8</td>\n",
       "      <td>0.00</td>\n",
       "      <td>2</td>\n",
       "      <td>0</td>\n",
       "      <td>1</td>\n",
       "      <td>28690.90</td>\n",
       "      <td>0</td>\n",
       "    </tr>\n",
       "    <tr>\n",
       "      <th>4</th>\n",
       "      <td>4</td>\n",
       "      <td>52554</td>\n",
       "      <td>15611551</td>\n",
       "      <td>Hill</td>\n",
       "      <td>627.0</td>\n",
       "      <td>Spain</td>\n",
       "      <td>Male</td>\n",
       "      <td>23.0</td>\n",
       "      <td>5</td>\n",
       "      <td>0.00</td>\n",
       "      <td>2</td>\n",
       "      <td>1</td>\n",
       "      <td>0</td>\n",
       "      <td>134483.07</td>\n",
       "      <td>0</td>\n",
       "    </tr>\n",
       "    <tr>\n",
       "      <th>...</th>\n",
       "      <td>...</td>\n",
       "      <td>...</td>\n",
       "      <td>...</td>\n",
       "      <td>...</td>\n",
       "      <td>...</td>\n",
       "      <td>...</td>\n",
       "      <td>...</td>\n",
       "      <td>...</td>\n",
       "      <td>...</td>\n",
       "      <td>...</td>\n",
       "      <td>...</td>\n",
       "      <td>...</td>\n",
       "      <td>...</td>\n",
       "      <td>...</td>\n",
       "      <td>...</td>\n",
       "    </tr>\n",
       "    <tr>\n",
       "      <th>41253</th>\n",
       "      <td>41253</td>\n",
       "      <td>55217</td>\n",
       "      <td>15641043</td>\n",
       "      <td>Onyemere</td>\n",
       "      <td>641.0</td>\n",
       "      <td>Germany</td>\n",
       "      <td>Male</td>\n",
       "      <td>38.0</td>\n",
       "      <td>2</td>\n",
       "      <td>138166.30</td>\n",
       "      <td>2</td>\n",
       "      <td>0</td>\n",
       "      <td>1</td>\n",
       "      <td>69227.66</td>\n",
       "      <td>0</td>\n",
       "    </tr>\n",
       "    <tr>\n",
       "      <th>41254</th>\n",
       "      <td>41254</td>\n",
       "      <td>110969</td>\n",
       "      <td>15674541</td>\n",
       "      <td>Robinson</td>\n",
       "      <td>575.0</td>\n",
       "      <td>France</td>\n",
       "      <td>Male</td>\n",
       "      <td>52.0</td>\n",
       "      <td>8</td>\n",
       "      <td>0.00</td>\n",
       "      <td>2</td>\n",
       "      <td>0</td>\n",
       "      <td>1</td>\n",
       "      <td>111342.66</td>\n",
       "      <td>0</td>\n",
       "    </tr>\n",
       "    <tr>\n",
       "      <th>41255</th>\n",
       "      <td>41255</td>\n",
       "      <td>132494</td>\n",
       "      <td>15700601</td>\n",
       "      <td>Kao</td>\n",
       "      <td>571.0</td>\n",
       "      <td>France</td>\n",
       "      <td>Male</td>\n",
       "      <td>34.0</td>\n",
       "      <td>1</td>\n",
       "      <td>119452.03</td>\n",
       "      <td>2</td>\n",
       "      <td>1</td>\n",
       "      <td>1</td>\n",
       "      <td>173511.72</td>\n",
       "      <td>0</td>\n",
       "    </tr>\n",
       "    <tr>\n",
       "      <th>41256</th>\n",
       "      <td>41256</td>\n",
       "      <td>31177</td>\n",
       "      <td>15806926</td>\n",
       "      <td>Nkemjika</td>\n",
       "      <td>624.0</td>\n",
       "      <td>France</td>\n",
       "      <td>Male</td>\n",
       "      <td>38.0</td>\n",
       "      <td>4</td>\n",
       "      <td>0.00</td>\n",
       "      <td>1</td>\n",
       "      <td>0</td>\n",
       "      <td>0</td>\n",
       "      <td>40320.30</td>\n",
       "      <td>0</td>\n",
       "    </tr>\n",
       "    <tr>\n",
       "      <th>41257</th>\n",
       "      <td>41257</td>\n",
       "      <td>154294</td>\n",
       "      <td>15696231</td>\n",
       "      <td>Chiwetelu</td>\n",
       "      <td>668.0</td>\n",
       "      <td>France</td>\n",
       "      <td>Male</td>\n",
       "      <td>29.0</td>\n",
       "      <td>7</td>\n",
       "      <td>105405.97</td>\n",
       "      <td>1</td>\n",
       "      <td>1</td>\n",
       "      <td>1</td>\n",
       "      <td>149853.89</td>\n",
       "      <td>0</td>\n",
       "    </tr>\n",
       "  </tbody>\n",
       "</table>\n",
       "<p>41258 rows × 15 columns</p>\n",
       "</div>"
      ],
      "text/plain": [
       "       Unnamed: 0      id  CustomerId       Surname  CreditScore Geography  \\\n",
       "0               0  157138    15638646     Chinweike        628.0     Spain   \n",
       "1               1  116144    15695825      Onwumelu        710.0     Spain   \n",
       "2               2  145603    15592765         Marks        663.0    France   \n",
       "3               3   79929    15807525  Onyemachukwu        644.0     Spain   \n",
       "4               4   52554    15611551          Hill        627.0     Spain   \n",
       "...           ...     ...         ...           ...          ...       ...   \n",
       "41253       41253   55217    15641043      Onyemere        641.0   Germany   \n",
       "41254       41254  110969    15674541      Robinson        575.0    France   \n",
       "41255       41255  132494    15700601           Kao        571.0    France   \n",
       "41256       41256   31177    15806926      Nkemjika        624.0    France   \n",
       "41257       41257  154294    15696231     Chiwetelu        668.0    France   \n",
       "\n",
       "       Gender   Age  Tenure    Balance  NumOfProducts  HasCrCard  \\\n",
       "0      Female  50.0       4  160133.08              1          1   \n",
       "1        Male  34.0       8       0.00              2          1   \n",
       "2      Female  23.0       8  125470.81              1          1   \n",
       "3        Male  45.0       8       0.00              2          0   \n",
       "4        Male  23.0       5       0.00              2          1   \n",
       "...       ...   ...     ...        ...            ...        ...   \n",
       "41253    Male  38.0       2  138166.30              2          0   \n",
       "41254    Male  52.0       8       0.00              2          0   \n",
       "41255    Male  34.0       1  119452.03              2          1   \n",
       "41256    Male  38.0       4       0.00              1          0   \n",
       "41257    Male  29.0       7  105405.97              1          1   \n",
       "\n",
       "       IsActiveMember  EstimatedSalary  churn  \n",
       "0                   1           653.53      0  \n",
       "1                   1         72993.73      0  \n",
       "2                   1        174536.17      0  \n",
       "3                   1         28690.90      0  \n",
       "4                   0        134483.07      0  \n",
       "...               ...              ...    ...  \n",
       "41253               1         69227.66      0  \n",
       "41254               1        111342.66      0  \n",
       "41255               1        173511.72      0  \n",
       "41256               0         40320.30      0  \n",
       "41257               1        149853.89      0  \n",
       "\n",
       "[41258 rows x 15 columns]"
      ]
     },
     "execution_count": 2,
     "metadata": {},
     "output_type": "execute_result"
    }
   ],
   "source": [
    "df = pd.read_csv('data_C.csv')\n",
    "df"
   ]
  },
  {
   "cell_type": "code",
   "execution_count": 3,
   "metadata": {},
   "outputs": [
    {
     "name": "stdout",
     "output_type": "stream",
     "text": [
      "<class 'pandas.core.frame.DataFrame'>\n",
      "RangeIndex: 41258 entries, 0 to 41257\n",
      "Data columns (total 15 columns):\n",
      " #   Column           Non-Null Count  Dtype  \n",
      "---  ------           --------------  -----  \n",
      " 0   Unnamed: 0       41258 non-null  int64  \n",
      " 1   id               41258 non-null  int64  \n",
      " 2   CustomerId       41258 non-null  int64  \n",
      " 3   Surname          41258 non-null  object \n",
      " 4   CreditScore      41246 non-null  float64\n",
      " 5   Geography        41258 non-null  object \n",
      " 6   Gender           41258 non-null  object \n",
      " 7   Age              41258 non-null  float64\n",
      " 8   Tenure           41258 non-null  int64  \n",
      " 9   Balance          41258 non-null  float64\n",
      " 10  NumOfProducts    41258 non-null  int64  \n",
      " 11  HasCrCard        41258 non-null  int64  \n",
      " 12  IsActiveMember   41258 non-null  int64  \n",
      " 13  EstimatedSalary  41258 non-null  float64\n",
      " 14  churn            41258 non-null  int64  \n",
      "dtypes: float64(4), int64(8), object(3)\n",
      "memory usage: 4.7+ MB\n"
     ]
    }
   ],
   "source": [
    "df.info()"
   ]
  },
  {
   "cell_type": "code",
   "execution_count": 4,
   "metadata": {},
   "outputs": [
    {
     "data": {
      "text/plain": [
       "Unnamed: 0          0\n",
       "id                  0\n",
       "CustomerId          0\n",
       "Surname             0\n",
       "CreditScore        12\n",
       "Geography           0\n",
       "Gender              0\n",
       "Age                 0\n",
       "Tenure              0\n",
       "Balance             0\n",
       "NumOfProducts       0\n",
       "HasCrCard           0\n",
       "IsActiveMember      0\n",
       "EstimatedSalary     0\n",
       "churn               0\n",
       "dtype: int64"
      ]
     },
     "execution_count": 4,
     "metadata": {},
     "output_type": "execute_result"
    }
   ],
   "source": [
    "df.isnull().sum()"
   ]
  },
  {
   "cell_type": "code",
   "execution_count": 5,
   "metadata": {},
   "outputs": [
    {
     "data": {
      "text/plain": [
       "Geography\n",
       "France     23469\n",
       "Spain       9057\n",
       "Germany     8732\n",
       "Name: count, dtype: int64"
      ]
     },
     "execution_count": 5,
     "metadata": {},
     "output_type": "execute_result"
    }
   ],
   "source": [
    "df['Geography'].value_counts()"
   ]
  },
  {
   "cell_type": "code",
   "execution_count": 6,
   "metadata": {},
   "outputs": [
    {
     "data": {
      "text/plain": [
       "Gender\n",
       "Male      23219\n",
       "Female    18039\n",
       "Name: count, dtype: int64"
      ]
     },
     "execution_count": 6,
     "metadata": {},
     "output_type": "execute_result"
    }
   ],
   "source": [
    "df['Gender'].value_counts()"
   ]
  },
  {
   "cell_type": "code",
   "execution_count": 7,
   "metadata": {},
   "outputs": [
    {
     "data": {
      "text/plain": [
       "array([[<Axes: title={'center': 'Unnamed: 0'}>,\n",
       "        <Axes: title={'center': 'id'}>,\n",
       "        <Axes: title={'center': 'CustomerId'}>],\n",
       "       [<Axes: title={'center': 'CreditScore'}>,\n",
       "        <Axes: title={'center': 'Age'}>,\n",
       "        <Axes: title={'center': 'Tenure'}>],\n",
       "       [<Axes: title={'center': 'Balance'}>,\n",
       "        <Axes: title={'center': 'NumOfProducts'}>,\n",
       "        <Axes: title={'center': 'HasCrCard'}>],\n",
       "       [<Axes: title={'center': 'IsActiveMember'}>,\n",
       "        <Axes: title={'center': 'EstimatedSalary'}>,\n",
       "        <Axes: title={'center': 'churn'}>]], dtype=object)"
      ]
     },
     "execution_count": 7,
     "metadata": {},
     "output_type": "execute_result"
    },
    {
     "data": {
      "image/png": "[encoded data removed]",
      "text/plain": [
       "<Figure size 1200x1200 with 12 Axes>"
      ]
     },
     "metadata": {},
     "output_type": "display_data"
    }
   ],
   "source": [
    "#numeric value histogram\n",
    "df.hist(figsize = (12,12))"
   ]
  },
  {
   "cell_type": "code",
   "execution_count": 8,
   "metadata": {},
   "outputs": [
    {
     "name": "stdout",
     "output_type": "stream",
     "text": [
      "<class 'pandas.core.frame.DataFrame'>\n",
      "RangeIndex: 41258 entries, 0 to 41257\n",
      "Data columns (total 15 columns):\n",
      " #   Column           Non-Null Count  Dtype  \n",
      "---  ------           --------------  -----  \n",
      " 0   Unnamed: 0       41258 non-null  int64  \n",
      " 1   id               41258 non-null  int64  \n",
      " 2   CustomerId       41258 non-null  int64  \n",
      " 3   Surname          41258 non-null  object \n",
      " 4   CreditScore      41246 non-null  float64\n",
      " 5   Geography        41258 non-null  object \n",
      " 6   Gender           41258 non-null  object \n",
      " 7   Age              41258 non-null  float64\n",
      " 8   Tenure           41258 non-null  int64  \n",
      " 9   Balance          41258 non-null  float64\n",
      " 10  NumOfProducts    41258 non-null  int64  \n",
      " 11  HasCrCard        41258 non-null  int64  \n",
      " 12  IsActiveMember   41258 non-null  int64  \n",
      " 13  EstimatedSalary  41258 non-null  float64\n",
      " 14  churn            41258 non-null  int64  \n",
      "dtypes: float64(4), int64(8), object(3)\n",
      "memory usage: 4.7+ MB\n"
     ]
    }
   ],
   "source": [
    "df.info()"
   ]
  },
  {
   "cell_type": "markdown",
   "metadata": {},
   "source": [
    "# Split data"
   ]
  },
  {
   "cell_type": "code",
   "execution_count": 9,
   "metadata": {},
   "outputs": [],
   "source": [
    "input_df=df.drop('churn',axis=1)\n",
    "output_df=df['churn']"
   ]
  },
  {
   "cell_type": "code",
   "execution_count": 10,
   "metadata": {},
   "outputs": [],
   "source": [
    "from sklearn.model_selection import train_test_split\n",
    "x_train, x_test, y_train, y_test = train_test_split(input_df, output_df, test_size = 0.2, random_state = 42) \n",
    "# random_state utk mengambil data scr random namun sama jika di run kembali shg jika dilakukan tuning model, data tidak berubah"
   ]
  },
  {
   "cell_type": "markdown",
   "metadata": {},
   "source": [
    "# Data Preprocessing"
   ]
  },
  {
   "cell_type": "code",
   "execution_count": 11,
   "metadata": {},
   "outputs": [
    {
     "data": {
      "text/plain": [
       "Unnamed: 0         0\n",
       "id                 0\n",
       "CustomerId         0\n",
       "Surname            0\n",
       "CreditScore        9\n",
       "Geography          0\n",
       "Gender             0\n",
       "Age                0\n",
       "Tenure             0\n",
       "Balance            0\n",
       "NumOfProducts      0\n",
       "HasCrCard          0\n",
       "IsActiveMember     0\n",
       "EstimatedSalary    0\n",
       "dtype: int64"
      ]
     },
     "execution_count": 11,
     "metadata": {},
     "output_type": "execute_result"
    }
   ],
   "source": [
    "x_train.isnull().sum()"
   ]
  },
  {
   "cell_type": "code",
   "execution_count": 12,
   "metadata": {},
   "outputs": [
    {
     "data": {
      "text/plain": [
       "Unnamed: 0         0\n",
       "id                 0\n",
       "CustomerId         0\n",
       "Surname            0\n",
       "CreditScore        3\n",
       "Geography          0\n",
       "Gender             0\n",
       "Age                0\n",
       "Tenure             0\n",
       "Balance            0\n",
       "NumOfProducts      0\n",
       "HasCrCard          0\n",
       "IsActiveMember     0\n",
       "EstimatedSalary    0\n",
       "dtype: int64"
      ]
     },
     "execution_count": 12,
     "metadata": {},
     "output_type": "execute_result"
    }
   ],
   "source": [
    "x_test.isnull().sum()"
   ]
  },
  {
   "cell_type": "markdown",
   "metadata": {},
   "source": [
    "## Delete variabel yang tidak digunakan"
   ]
  },
  {
   "cell_type": "code",
   "execution_count": 13,
   "metadata": {},
   "outputs": [
    {
     "data": {
      "text/html": [
       "<div>\n",
       "<style scoped>\n",
       "    .dataframe tbody tr th:only-of-type {\n",
       "        vertical-align: middle;\n",
       "    }\n",
       "\n",
       "    .dataframe tbody tr th {\n",
       "        vertical-align: top;\n",
       "    }\n",
       "\n",
       "    .dataframe thead th {\n",
       "        text-align: right;\n",
       "    }\n",
       "</style>\n",
       "<table border=\"1\" class=\"dataframe\">\n",
       "  <thead>\n",
       "    <tr style=\"text-align: right;\">\n",
       "      <th></th>\n",
       "      <th>CreditScore</th>\n",
       "      <th>Geography</th>\n",
       "      <th>Gender</th>\n",
       "      <th>Age</th>\n",
       "      <th>Tenure</th>\n",
       "      <th>Balance</th>\n",
       "      <th>NumOfProducts</th>\n",
       "      <th>HasCrCard</th>\n",
       "      <th>IsActiveMember</th>\n",
       "      <th>EstimatedSalary</th>\n",
       "    </tr>\n",
       "  </thead>\n",
       "  <tbody>\n",
       "    <tr>\n",
       "      <th>15731</th>\n",
       "      <td>725.0</td>\n",
       "      <td>Spain</td>\n",
       "      <td>Female</td>\n",
       "      <td>31.0</td>\n",
       "      <td>2</td>\n",
       "      <td>0.00</td>\n",
       "      <td>2</td>\n",
       "      <td>0</td>\n",
       "      <td>0</td>\n",
       "      <td>71830.10</td>\n",
       "    </tr>\n",
       "    <tr>\n",
       "      <th>6996</th>\n",
       "      <td>688.0</td>\n",
       "      <td>Spain</td>\n",
       "      <td>Male</td>\n",
       "      <td>36.0</td>\n",
       "      <td>4</td>\n",
       "      <td>0.00</td>\n",
       "      <td>1</td>\n",
       "      <td>1</td>\n",
       "      <td>0</td>\n",
       "      <td>129870.93</td>\n",
       "    </tr>\n",
       "    <tr>\n",
       "      <th>30824</th>\n",
       "      <td>748.0</td>\n",
       "      <td>France</td>\n",
       "      <td>Female</td>\n",
       "      <td>23.0</td>\n",
       "      <td>7</td>\n",
       "      <td>118028.35</td>\n",
       "      <td>1</td>\n",
       "      <td>0</td>\n",
       "      <td>1</td>\n",
       "      <td>41626.78</td>\n",
       "    </tr>\n",
       "    <tr>\n",
       "      <th>40019</th>\n",
       "      <td>701.0</td>\n",
       "      <td>France</td>\n",
       "      <td>Female</td>\n",
       "      <td>45.0</td>\n",
       "      <td>5</td>\n",
       "      <td>0.00</td>\n",
       "      <td>2</td>\n",
       "      <td>1</td>\n",
       "      <td>1</td>\n",
       "      <td>158948.63</td>\n",
       "    </tr>\n",
       "    <tr>\n",
       "      <th>21501</th>\n",
       "      <td>590.0</td>\n",
       "      <td>France</td>\n",
       "      <td>Female</td>\n",
       "      <td>23.0</td>\n",
       "      <td>5</td>\n",
       "      <td>113923.81</td>\n",
       "      <td>3</td>\n",
       "      <td>1</td>\n",
       "      <td>0</td>\n",
       "      <td>196789.90</td>\n",
       "    </tr>\n",
       "  </tbody>\n",
       "</table>\n",
       "</div>"
      ],
      "text/plain": [
       "       CreditScore Geography  Gender   Age  Tenure    Balance  NumOfProducts  \\\n",
       "15731        725.0     Spain  Female  31.0       2       0.00              2   \n",
       "6996         688.0     Spain    Male  36.0       4       0.00              1   \n",
       "30824        748.0    France  Female  23.0       7  118028.35              1   \n",
       "40019        701.0    France  Female  45.0       5       0.00              2   \n",
       "21501        590.0    France  Female  23.0       5  113923.81              3   \n",
       "\n",
       "       HasCrCard  IsActiveMember  EstimatedSalary  \n",
       "15731          0               0         71830.10  \n",
       "6996           1               0        129870.93  \n",
       "30824          0               1         41626.78  \n",
       "40019          1               1        158948.63  \n",
       "21501          1               0        196789.90  "
      ]
     },
     "execution_count": 13,
     "metadata": {},
     "output_type": "execute_result"
    }
   ],
   "source": [
    "#Remove columns\n",
    "x_train = x_train.drop('CustomerId', axis=1)\n",
    "x_train = x_train.drop('id', axis=1)\n",
    "x_train = x_train.drop('Surname', axis=1)\n",
    "x_train = x_train.drop('Unnamed: 0', axis=1)\n",
    "\n",
    "x_train.head()"
   ]
  },
  {
   "cell_type": "code",
   "execution_count": 14,
   "metadata": {},
   "outputs": [
    {
     "data": {
      "text/html": [
       "<div>\n",
       "<style scoped>\n",
       "    .dataframe tbody tr th:only-of-type {\n",
       "        vertical-align: middle;\n",
       "    }\n",
       "\n",
       "    .dataframe tbody tr th {\n",
       "        vertical-align: top;\n",
       "    }\n",
       "\n",
       "    .dataframe thead th {\n",
       "        text-align: right;\n",
       "    }\n",
       "</style>\n",
       "<table border=\"1\" class=\"dataframe\">\n",
       "  <thead>\n",
       "    <tr style=\"text-align: right;\">\n",
       "      <th></th>\n",
       "      <th>CreditScore</th>\n",
       "      <th>Geography</th>\n",
       "      <th>Gender</th>\n",
       "      <th>Age</th>\n",
       "      <th>Tenure</th>\n",
       "      <th>Balance</th>\n",
       "      <th>NumOfProducts</th>\n",
       "      <th>HasCrCard</th>\n",
       "      <th>IsActiveMember</th>\n",
       "      <th>EstimatedSalary</th>\n",
       "    </tr>\n",
       "  </thead>\n",
       "  <tbody>\n",
       "    <tr>\n",
       "      <th>22930</th>\n",
       "      <td>787.0</td>\n",
       "      <td>France</td>\n",
       "      <td>Male</td>\n",
       "      <td>36.0</td>\n",
       "      <td>6</td>\n",
       "      <td>170840.08</td>\n",
       "      <td>1</td>\n",
       "      <td>0</td>\n",
       "      <td>1</td>\n",
       "      <td>101371.72</td>\n",
       "    </tr>\n",
       "    <tr>\n",
       "      <th>4280</th>\n",
       "      <td>735.0</td>\n",
       "      <td>France</td>\n",
       "      <td>Male</td>\n",
       "      <td>30.0</td>\n",
       "      <td>2</td>\n",
       "      <td>0.00</td>\n",
       "      <td>2</td>\n",
       "      <td>1</td>\n",
       "      <td>1</td>\n",
       "      <td>132908.07</td>\n",
       "    </tr>\n",
       "    <tr>\n",
       "      <th>40587</th>\n",
       "      <td>711.0</td>\n",
       "      <td>France</td>\n",
       "      <td>Female</td>\n",
       "      <td>58.0</td>\n",
       "      <td>4</td>\n",
       "      <td>0.00</td>\n",
       "      <td>1</td>\n",
       "      <td>1</td>\n",
       "      <td>1</td>\n",
       "      <td>119110.03</td>\n",
       "    </tr>\n",
       "    <tr>\n",
       "      <th>31318</th>\n",
       "      <td>691.0</td>\n",
       "      <td>Spain</td>\n",
       "      <td>Male</td>\n",
       "      <td>33.0</td>\n",
       "      <td>5</td>\n",
       "      <td>0.00</td>\n",
       "      <td>2</td>\n",
       "      <td>1</td>\n",
       "      <td>0</td>\n",
       "      <td>2010.98</td>\n",
       "    </tr>\n",
       "    <tr>\n",
       "      <th>34854</th>\n",
       "      <td>574.0</td>\n",
       "      <td>Spain</td>\n",
       "      <td>Male</td>\n",
       "      <td>37.0</td>\n",
       "      <td>7</td>\n",
       "      <td>128061.00</td>\n",
       "      <td>1</td>\n",
       "      <td>1</td>\n",
       "      <td>0</td>\n",
       "      <td>62375.10</td>\n",
       "    </tr>\n",
       "  </tbody>\n",
       "</table>\n",
       "</div>"
      ],
      "text/plain": [
       "       CreditScore Geography  Gender   Age  Tenure    Balance  NumOfProducts  \\\n",
       "22930        787.0    France    Male  36.0       6  170840.08              1   \n",
       "4280         735.0    France    Male  30.0       2       0.00              2   \n",
       "40587        711.0    France  Female  58.0       4       0.00              1   \n",
       "31318        691.0     Spain    Male  33.0       5       0.00              2   \n",
       "34854        574.0     Spain    Male  37.0       7  128061.00              1   \n",
       "\n",
       "       HasCrCard  IsActiveMember  EstimatedSalary  \n",
       "22930          0               1        101371.72  \n",
       "4280           1               1        132908.07  \n",
       "40587          1               1        119110.03  \n",
       "31318          1               0          2010.98  \n",
       "34854          1               0         62375.10  "
      ]
     },
     "execution_count": 14,
     "metadata": {},
     "output_type": "execute_result"
    }
   ],
   "source": [
    "#Remove columns\n",
    "x_test = x_test.drop('CustomerId', axis=1)\n",
    "x_test = x_test.drop('id', axis=1)\n",
    "x_test = x_test.drop('Surname', axis=1)\n",
    "x_test = x_test.drop('Unnamed: 0', axis=1)\n",
    "\n",
    "x_test.head()"
   ]
  },
  {
   "cell_type": "markdown",
   "metadata": {},
   "source": [
    "## Convert categorical data"
   ]
  },
  {
   "cell_type": "code",
   "execution_count": 15,
   "metadata": {},
   "outputs": [
    {
     "data": {
      "text/html": [
       "<div>\n",
       "<style scoped>\n",
       "    .dataframe tbody tr th:only-of-type {\n",
       "        vertical-align: middle;\n",
       "    }\n",
       "\n",
       "    .dataframe tbody tr th {\n",
       "        vertical-align: top;\n",
       "    }\n",
       "\n",
       "    .dataframe thead th {\n",
       "        text-align: right;\n",
       "    }\n",
       "</style>\n",
       "<table border=\"1\" class=\"dataframe\">\n",
       "  <thead>\n",
       "    <tr style=\"text-align: right;\">\n",
       "      <th></th>\n",
       "      <th>CreditScore</th>\n",
       "      <th>Geography</th>\n",
       "      <th>Gender</th>\n",
       "      <th>Age</th>\n",
       "      <th>Tenure</th>\n",
       "      <th>Balance</th>\n",
       "      <th>NumOfProducts</th>\n",
       "      <th>HasCrCard</th>\n",
       "      <th>IsActiveMember</th>\n",
       "      <th>EstimatedSalary</th>\n",
       "    </tr>\n",
       "  </thead>\n",
       "  <tbody>\n",
       "    <tr>\n",
       "      <th>15731</th>\n",
       "      <td>725.0</td>\n",
       "      <td>2</td>\n",
       "      <td>0</td>\n",
       "      <td>31.0</td>\n",
       "      <td>2</td>\n",
       "      <td>0.00</td>\n",
       "      <td>2</td>\n",
       "      <td>0</td>\n",
       "      <td>0</td>\n",
       "      <td>71830.10</td>\n",
       "    </tr>\n",
       "    <tr>\n",
       "      <th>6996</th>\n",
       "      <td>688.0</td>\n",
       "      <td>2</td>\n",
       "      <td>1</td>\n",
       "      <td>36.0</td>\n",
       "      <td>4</td>\n",
       "      <td>0.00</td>\n",
       "      <td>1</td>\n",
       "      <td>1</td>\n",
       "      <td>0</td>\n",
       "      <td>129870.93</td>\n",
       "    </tr>\n",
       "    <tr>\n",
       "      <th>30824</th>\n",
       "      <td>748.0</td>\n",
       "      <td>1</td>\n",
       "      <td>0</td>\n",
       "      <td>23.0</td>\n",
       "      <td>7</td>\n",
       "      <td>118028.35</td>\n",
       "      <td>1</td>\n",
       "      <td>0</td>\n",
       "      <td>1</td>\n",
       "      <td>41626.78</td>\n",
       "    </tr>\n",
       "    <tr>\n",
       "      <th>40019</th>\n",
       "      <td>701.0</td>\n",
       "      <td>1</td>\n",
       "      <td>0</td>\n",
       "      <td>45.0</td>\n",
       "      <td>5</td>\n",
       "      <td>0.00</td>\n",
       "      <td>2</td>\n",
       "      <td>1</td>\n",
       "      <td>1</td>\n",
       "      <td>158948.63</td>\n",
       "    </tr>\n",
       "    <tr>\n",
       "      <th>21501</th>\n",
       "      <td>590.0</td>\n",
       "      <td>1</td>\n",
       "      <td>0</td>\n",
       "      <td>23.0</td>\n",
       "      <td>5</td>\n",
       "      <td>113923.81</td>\n",
       "      <td>3</td>\n",
       "      <td>1</td>\n",
       "      <td>0</td>\n",
       "      <td>196789.90</td>\n",
       "    </tr>\n",
       "  </tbody>\n",
       "</table>\n",
       "</div>"
      ],
      "text/plain": [
       "       CreditScore  Geography  Gender   Age  Tenure    Balance  NumOfProducts  \\\n",
       "15731        725.0          2       0  31.0       2       0.00              2   \n",
       "6996         688.0          2       1  36.0       4       0.00              1   \n",
       "30824        748.0          1       0  23.0       7  118028.35              1   \n",
       "40019        701.0          1       0  45.0       5       0.00              2   \n",
       "21501        590.0          1       0  23.0       5  113923.81              3   \n",
       "\n",
       "       HasCrCard  IsActiveMember  EstimatedSalary  \n",
       "15731          0               0         71830.10  \n",
       "6996           1               0        129870.93  \n",
       "30824          0               1         41626.78  \n",
       "40019          1               1        158948.63  \n",
       "21501          1               0        196789.90  "
      ]
     },
     "execution_count": 15,
     "metadata": {},
     "output_type": "execute_result"
    }
   ],
   "source": [
    "train_encode={\"Gender\": {\"Male\":1,\"Female\" :0}, \"Geography\":{\"Spain\":2,\"France\":1, \"Germany\":0}}\n",
    "test_encode={\"Gender\": {\"Male\":1,\"Female\" :0}, \"Geography\":{\"Spain\":2,\"France\":1, \"Germany\":0}}\n",
    "\n",
    "#replace categorical value into numerical value\n",
    "x_train=x_train.replace(train_encode)\n",
    "x_test=x_test.replace(test_encode)\n",
    "\n",
    "x_train.head()"
   ]
  },
  {
   "cell_type": "code",
   "execution_count": 16,
   "metadata": {},
   "outputs": [
    {
     "name": "stdout",
     "output_type": "stream",
     "text": [
      "<class 'pandas.core.frame.DataFrame'>\n",
      "Index: 33006 entries, 15731 to 15795\n",
      "Data columns (total 10 columns):\n",
      " #   Column           Non-Null Count  Dtype  \n",
      "---  ------           --------------  -----  \n",
      " 0   CreditScore      32997 non-null  float64\n",
      " 1   Geography        33006 non-null  int64  \n",
      " 2   Gender           33006 non-null  int64  \n",
      " 3   Age              33006 non-null  float64\n",
      " 4   Tenure           33006 non-null  int64  \n",
      " 5   Balance          33006 non-null  float64\n",
      " 6   NumOfProducts    33006 non-null  int64  \n",
      " 7   HasCrCard        33006 non-null  int64  \n",
      " 8   IsActiveMember   33006 non-null  int64  \n",
      " 9   EstimatedSalary  33006 non-null  float64\n",
      "dtypes: float64(4), int64(6)\n",
      "memory usage: 2.8 MB\n"
     ]
    }
   ],
   "source": [
    "x_train.info()"
   ]
  },
  {
   "cell_type": "markdown",
   "metadata": {},
   "source": [
    "## Outlier"
   ]
  },
  {
   "cell_type": "code",
   "execution_count": 18,
   "metadata": {},
   "outputs": [
    {
     "name": "stdout",
     "output_type": "stream",
     "text": [
      "column CreditScore has 47 outliers\n",
      "column Age has 1338 outliers\n",
      "column Tenure has 0 outliers\n",
      "column Balance has 0 outliers\n",
      "column EstimatedSalary has 0 outliers\n",
      "\n",
      "total outliers is 1385 out of 33006\n"
     ]
    }
   ],
   "source": [
    "total = 0\n",
    "num_col = ['CreditScore', 'Age', 'Tenure', 'Balance', 'EstimatedSalary']\n",
    "\n",
    "for col in num_col:\n",
    "    q1 = x_train[col].quantile(0.25)\n",
    "    q3 = x_train[col].quantile(0.75)\n",
    "    iqr = q3-q1\n",
    "    outliers = x_train[(x_train[col] < (q1 - 1.5*iqr)) | (x_train[col] > (q3 + 1.5*iqr))]\n",
    "    length = len(outliers)\n",
    "    total = total+length\n",
    "    print(f\"column {col} has {length} outliers\")\n",
    "\n",
    "print(\"\\ntotal outliers is\", total,\"out of\", len(x_train))"
   ]
  },
  {
   "cell_type": "code",
   "execution_count": 19,
   "metadata": {},
   "outputs": [
    {
     "data": {
      "image/png": "[encoded data removed]",
      "text/plain": [
       "<Figure size 640x480 with 1 Axes>"
      ]
     },
     "metadata": {},
     "output_type": "display_data"
    }
   ],
   "source": [
    "boxplot = x_train.boxplot(column=['Age']) \n",
    "plt.show()"
   ]
  },
  {
   "cell_type": "code",
   "execution_count": 20,
   "metadata": {},
   "outputs": [],
   "source": [
    "x_train.loc[outliers.index, 'Age'] = x_train['Age'].median() #replace outlier with median"
   ]
  },
  {
   "cell_type": "markdown",
   "metadata": {},
   "source": [
    "## Impute missing value"
   ]
  },
  {
   "cell_type": "code",
   "execution_count": 21,
   "metadata": {},
   "outputs": [],
   "source": [
    "column_name = 'CreditScore'\n",
    "\n",
    "# Calculate the mean of the column\n",
    "train_credit_mean = x_train[column_name].mean()\n",
    "test_credit_mean = x_test[column_name].mean()\n",
    "\n",
    "# Replace missing values with the mean\n",
    "x_train[column_name].fillna(train_credit_mean, inplace=True)\n",
    "x_test[column_name].fillna(test_credit_mean, inplace=True)"
   ]
  },
  {
   "cell_type": "code",
   "execution_count": 23,
   "metadata": {},
   "outputs": [
    {
     "data": {
      "text/plain": [
       "array([[<Axes: title={'center': 'CreditScore'}>,\n",
       "        <Axes: title={'center': 'Geography'}>,\n",
       "        <Axes: title={'center': 'Gender'}>],\n",
       "       [<Axes: title={'center': 'Age'}>,\n",
       "        <Axes: title={'center': 'Tenure'}>,\n",
       "        <Axes: title={'center': 'Balance'}>],\n",
       "       [<Axes: title={'center': 'NumOfProducts'}>,\n",
       "        <Axes: title={'center': 'HasCrCard'}>,\n",
       "        <Axes: title={'center': 'IsActiveMember'}>],\n",
       "       [<Axes: title={'center': 'EstimatedSalary'}>, <Axes: >, <Axes: >]],\n",
       "      dtype=object)"
      ]
     },
     "execution_count": 23,
     "metadata": {},
     "output_type": "execute_result"
    },
    {
     "data": {
      "image/png": "[encoded data removed]",
      "text/plain": [
       "<Figure size 1200x1200 with 12 Axes>"
      ]
     },
     "metadata": {},
     "output_type": "display_data"
    }
   ],
   "source": [
    "x_train.hist(figsize = (12,12))"
   ]
  },
  {
   "cell_type": "code",
   "execution_count": 28,
   "metadata": {},
   "outputs": [
    {
     "data": {
      "text/html": [
       "<div>\n",
       "<style scoped>\n",
       "    .dataframe tbody tr th:only-of-type {\n",
       "        vertical-align: middle;\n",
       "    }\n",
       "\n",
       "    .dataframe tbody tr th {\n",
       "        vertical-align: top;\n",
       "    }\n",
       "\n",
       "    .dataframe thead th {\n",
       "        text-align: right;\n",
       "    }\n",
       "</style>\n",
       "<table border=\"1\" class=\"dataframe\">\n",
       "  <thead>\n",
       "    <tr style=\"text-align: right;\">\n",
       "      <th></th>\n",
       "      <th>CreditScore</th>\n",
       "      <th>Geography</th>\n",
       "      <th>Gender</th>\n",
       "      <th>Age</th>\n",
       "      <th>Tenure</th>\n",
       "      <th>Balance</th>\n",
       "      <th>NumOfProducts</th>\n",
       "      <th>HasCrCard</th>\n",
       "      <th>IsActiveMember</th>\n",
       "      <th>EstimatedSalary</th>\n",
       "    </tr>\n",
       "  </thead>\n",
       "  <tbody>\n",
       "    <tr>\n",
       "      <th>count</th>\n",
       "      <td>33006.000000</td>\n",
       "      <td>33006.000000</td>\n",
       "      <td>33006.000000</td>\n",
       "      <td>33006.000000</td>\n",
       "      <td>33006.000000</td>\n",
       "      <td>33006.000000</td>\n",
       "      <td>33006.000000</td>\n",
       "      <td>33006.000000</td>\n",
       "      <td>33006.000000</td>\n",
       "      <td>33006.000000</td>\n",
       "    </tr>\n",
       "    <tr>\n",
       "      <th>mean</th>\n",
       "      <td>655.778950</td>\n",
       "      <td>1.006302</td>\n",
       "      <td>0.561474</td>\n",
       "      <td>38.154147</td>\n",
       "      <td>5.035388</td>\n",
       "      <td>55687.949879</td>\n",
       "      <td>1.554960</td>\n",
       "      <td>0.753408</td>\n",
       "      <td>0.494637</td>\n",
       "      <td>112663.985140</td>\n",
       "    </tr>\n",
       "    <tr>\n",
       "      <th>std</th>\n",
       "      <td>79.765323</td>\n",
       "      <td>0.656311</td>\n",
       "      <td>0.496214</td>\n",
       "      <td>8.958740</td>\n",
       "      <td>2.818784</td>\n",
       "      <td>62893.272022</td>\n",
       "      <td>0.546734</td>\n",
       "      <td>0.431033</td>\n",
       "      <td>0.499979</td>\n",
       "      <td>50074.542347</td>\n",
       "    </tr>\n",
       "    <tr>\n",
       "      <th>min</th>\n",
       "      <td>350.000000</td>\n",
       "      <td>0.000000</td>\n",
       "      <td>0.000000</td>\n",
       "      <td>18.000000</td>\n",
       "      <td>0.000000</td>\n",
       "      <td>0.000000</td>\n",
       "      <td>1.000000</td>\n",
       "      <td>0.000000</td>\n",
       "      <td>0.000000</td>\n",
       "      <td>11.580000</td>\n",
       "    </tr>\n",
       "    <tr>\n",
       "      <th>25%</th>\n",
       "      <td>597.000000</td>\n",
       "      <td>1.000000</td>\n",
       "      <td>0.000000</td>\n",
       "      <td>32.000000</td>\n",
       "      <td>3.000000</td>\n",
       "      <td>0.000000</td>\n",
       "      <td>1.000000</td>\n",
       "      <td>1.000000</td>\n",
       "      <td>0.000000</td>\n",
       "      <td>74835.650000</td>\n",
       "    </tr>\n",
       "    <tr>\n",
       "      <th>50%</th>\n",
       "      <td>659.000000</td>\n",
       "      <td>1.000000</td>\n",
       "      <td>1.000000</td>\n",
       "      <td>37.000000</td>\n",
       "      <td>5.000000</td>\n",
       "      <td>0.000000</td>\n",
       "      <td>2.000000</td>\n",
       "      <td>1.000000</td>\n",
       "      <td>0.000000</td>\n",
       "      <td>117832.880000</td>\n",
       "    </tr>\n",
       "    <tr>\n",
       "      <th>75%</th>\n",
       "      <td>710.000000</td>\n",
       "      <td>1.000000</td>\n",
       "      <td>1.000000</td>\n",
       "      <td>42.000000</td>\n",
       "      <td>7.000000</td>\n",
       "      <td>120599.210000</td>\n",
       "      <td>2.000000</td>\n",
       "      <td>1.000000</td>\n",
       "      <td>1.000000</td>\n",
       "      <td>154843.400000</td>\n",
       "    </tr>\n",
       "    <tr>\n",
       "      <th>max</th>\n",
       "      <td>850.000000</td>\n",
       "      <td>2.000000</td>\n",
       "      <td>1.000000</td>\n",
       "      <td>92.000000</td>\n",
       "      <td>10.000000</td>\n",
       "      <td>238387.560000</td>\n",
       "      <td>4.000000</td>\n",
       "      <td>1.000000</td>\n",
       "      <td>1.000000</td>\n",
       "      <td>199992.480000</td>\n",
       "    </tr>\n",
       "  </tbody>\n",
       "</table>\n",
       "</div>"
      ],
      "text/plain": [
       "        CreditScore     Geography        Gender           Age        Tenure  \\\n",
       "count  33006.000000  33006.000000  33006.000000  33006.000000  33006.000000   \n",
       "mean     655.778950      1.006302      0.561474     38.154147      5.035388   \n",
       "std       79.765323      0.656311      0.496214      8.958740      2.818784   \n",
       "min      350.000000      0.000000      0.000000     18.000000      0.000000   \n",
       "25%      597.000000      1.000000      0.000000     32.000000      3.000000   \n",
       "50%      659.000000      1.000000      1.000000     37.000000      5.000000   \n",
       "75%      710.000000      1.000000      1.000000     42.000000      7.000000   \n",
       "max      850.000000      2.000000      1.000000     92.000000     10.000000   \n",
       "\n",
       "             Balance  NumOfProducts     HasCrCard  IsActiveMember  \\\n",
       "count   33006.000000   33006.000000  33006.000000    33006.000000   \n",
       "mean    55687.949879       1.554960      0.753408        0.494637   \n",
       "std     62893.272022       0.546734      0.431033        0.499979   \n",
       "min         0.000000       1.000000      0.000000        0.000000   \n",
       "25%         0.000000       1.000000      1.000000        0.000000   \n",
       "50%         0.000000       2.000000      1.000000        0.000000   \n",
       "75%    120599.210000       2.000000      1.000000        1.000000   \n",
       "max    238387.560000       4.000000      1.000000        1.000000   \n",
       "\n",
       "       EstimatedSalary  \n",
       "count     33006.000000  \n",
       "mean     112663.985140  \n",
       "std       50074.542347  \n",
       "min          11.580000  \n",
       "25%       74835.650000  \n",
       "50%      117832.880000  \n",
       "75%      154843.400000  \n",
       "max      199992.480000  "
      ]
     },
     "execution_count": 28,
     "metadata": {},
     "output_type": "execute_result"
    }
   ],
   "source": [
    "x_train.describe()"
   ]
  },
  {
   "cell_type": "code",
   "execution_count": 34,
   "metadata": {},
   "outputs": [
    {
     "data": {
      "text/plain": [
       "IsActiveMember\n",
       "0    16680\n",
       "1    16326\n",
       "Name: count, dtype: int64"
      ]
     },
     "execution_count": 34,
     "metadata": {},
     "output_type": "execute_result"
    }
   ],
   "source": [
    "x_train['IsActiveMember'].value_counts()"
   ]
  },
  {
   "cell_type": "markdown",
   "metadata": {},
   "source": [
    "# Modelling"
   ]
  },
  {
   "cell_type": "markdown",
   "metadata": {},
   "source": [
    "## Random Forest"
   ]
  },
  {
   "cell_type": "code",
   "execution_count": 22,
   "metadata": {},
   "outputs": [
    {
     "name": "stdout",
     "output_type": "stream",
     "text": [
      "\n",
      "Classification Report\n",
      "\n",
      "              precision    recall  f1-score   support\n",
      "\n",
      "           0       0.84      0.97      0.90      6431\n",
      "           1       0.80      0.35      0.49      1821\n",
      "\n",
      "    accuracy                           0.84      8252\n",
      "   macro avg       0.82      0.66      0.70      8252\n",
      "weighted avg       0.83      0.84      0.81      8252\n",
      "\n"
     ]
    }
   ],
   "source": [
    "from sklearn.ensemble import RandomForestClassifier\n",
    "import warnings\n",
    "warnings.filterwarnings('ignore')\n",
    "\n",
    "RF_class = RandomForestClassifier(criterion= 'gini',max_depth=4) #max_depth=4 utk menghindari overfitting\n",
    "RF_class.fit(x_train, y_train)\n",
    "\n",
    "y_predict=RF_class.predict(x_test)\n",
    "\n",
    "from sklearn.metrics import classification_report\n",
    "print('\\nClassification Report\\n')\n",
    "print(classification_report(y_test, y_predict, target_names=['0','1']))"
   ]
  },
  {
   "cell_type": "markdown",
   "metadata": {},
   "source": [
    "### Tuning parameter"
   ]
  },
  {
   "cell_type": "code",
   "execution_count": 24,
   "metadata": {},
   "outputs": [
    {
     "name": "stdout",
     "output_type": "stream",
     "text": [
      "Tuned Hyperparameters : {'criterion': 'entropy', 'max_depth': 10}\n",
      "Accuracy : 0.862176409153947\n"
     ]
    }
   ],
   "source": [
    "from sklearn.model_selection import GridSearchCV\n",
    "\n",
    "parameters = {\n",
    "    'criterion':['gini', 'entropy', 'log_loss'],\n",
    "    'max_depth':[4,6,8,10,12], \n",
    "}\n",
    "\n",
    "RF_class2 = RandomForestClassifier()\n",
    "RF_class2= GridSearchCV(RF_class2 ,\n",
    "                            param_grid = parameters,   # hyperparameters\n",
    "                            scoring='accuracy',        # metric for scoring\n",
    "                            cv=5)  # cross-validation utk menghindari overfitting\n",
    "\n",
    "RF_class2.fit(x_train,y_train)\n",
    "print(\"Tuned Hyperparameters :\", RF_class2.best_params_)\n",
    "print(\"Accuracy :\",RF_class2.best_score_)"
   ]
  },
  {
   "cell_type": "code",
   "execution_count": 25,
   "metadata": {},
   "outputs": [
    {
     "name": "stdout",
     "output_type": "stream",
     "text": [
      "\n",
      "Classification Report\n",
      "\n",
      "              precision    recall  f1-score   support\n",
      "\n",
      "           0       0.88      0.95      0.91      6431\n",
      "           1       0.77      0.53      0.63      1821\n",
      "\n",
      "    accuracy                           0.86      8252\n",
      "   macro avg       0.82      0.74      0.77      8252\n",
      "weighted avg       0.85      0.86      0.85      8252\n",
      "\n"
     ]
    }
   ],
   "source": [
    "#Train the data using based parameter\n",
    "RF_class_best = RandomForestClassifier(criterion= 'entropy',max_depth=10)\n",
    "RF_class_best.fit(x_train,y_train)\n",
    "y_predict_best=RF_class_best.predict(x_test)\n",
    "\n",
    "print('\\nClassification Report\\n')\n",
    "print(classification_report(y_test, y_predict_best, target_names=['0','1']))"
   ]
  },
  {
   "cell_type": "markdown",
   "metadata": {},
   "source": [
    "## Xgboost"
   ]
  },
  {
   "cell_type": "code",
   "execution_count": 34,
   "metadata": {},
   "outputs": [
    {
     "name": "stdout",
     "output_type": "stream",
     "text": [
      "\n",
      "Classification Report\n",
      "\n",
      "              precision    recall  f1-score   support\n",
      "\n",
      "           0       0.89      0.95      0.92      6431\n",
      "           1       0.75      0.57      0.65      1821\n",
      "\n",
      "    accuracy                           0.86      8252\n",
      "   macro avg       0.82      0.76      0.78      8252\n",
      "weighted avg       0.86      0.86      0.86      8252\n",
      "\n"
     ]
    }
   ],
   "source": [
    "from xgboost import XGBClassifier\n",
    "\n",
    "xgb_model = XGBClassifier(n_estimators=100, learning_rate = 0.1) #n_estimators=100 adalah jumlah tree yg digunakan\n",
    "xgb_model.fit(x_train, y_train)\n",
    "y_pred = xgb_model.predict(x_test)\n",
    "\n",
    "print('\\nClassification Report\\n')\n",
    "print(classification_report(y_test, y_pred, target_names=['0','1']))"
   ]
  },
  {
   "cell_type": "markdown",
   "metadata": {},
   "source": [
    "Kita akan memakai model Xgboost karena memiliki nilai f1-score yang lebih baik dibandingkan model random forest"
   ]
  },
  {
   "cell_type": "markdown",
   "metadata": {},
   "source": [
    "# Save model"
   ]
  },
  {
   "cell_type": "code",
   "execution_count": 36,
   "metadata": {},
   "outputs": [],
   "source": [
    "import pickle as pkl\n",
    "filename = 'xgb_model.pkl'\n",
    "pkl.dump(xgb_model, open(filename, 'wb')) "
   ]
  }
 ],
 "metadata": {
  "kernelspec": {
   "display_name": "base",
   "language": "python",
   "name": "python3"
  },
  "language_info": {
   "codemirror_mode": {
    "name": "ipython",
    "version": 3
   },
   "file_extension": ".py",
   "mimetype": "text/x-python",
   "name": "python",
   "nbconvert_exporter": "python",
   "pygments_lexer": "ipython3",
   "version": "3.11.5"
  }
 },
 "nbformat": 4,
 "nbformat_minor": 2
}
